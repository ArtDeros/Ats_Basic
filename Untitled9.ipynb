{
  "nbformat": 4,
  "nbformat_minor": 0,
  "metadata": {
    "colab": {
      "provenance": [],
      "authorship_tag": "ABX9TyMvES2jQe+PgcnGJqKVEimo",
      "include_colab_link": true
    },
    "kernelspec": {
      "name": "python3",
      "display_name": "Python 3"
    },
    "language_info": {
      "name": "python"
    }
  },
  "cells": [
    {
      "cell_type": "markdown",
      "metadata": {
        "id": "view-in-github",
        "colab_type": "text"
      },
      "source": [
        "<a href=\"https://colab.research.google.com/github/ArtDeros/Ats_Basic/blob/main/Untitled9.ipynb\" target=\"_parent\"><img src=\"https://colab.research.google.com/assets/colab-badge.svg\" alt=\"Open In Colab\"/></a>"
      ]
    },
    {
      "cell_type": "code",
      "execution_count": null,
      "metadata": {
        "id": "z1cWCN5tyeeo"
      },
      "outputs": [],
      "source": [
        "import os\n",
        "import subprocess\n"
      ]
    },
    {
      "cell_type": "code",
      "source": [
        "def create_react_native_app(project_name):\n",
        "    subprocess.run([\"npx\", \"react-native\", \"init\", project_name])\n",
        "    os.chdir(project_name)\n",
        "    subprocess.run([\"npm\", \"install\", \"react-native-web\"])\n"
      ],
      "metadata": {
        "id": "TjzJZBMVyfyq"
      },
      "execution_count": null,
      "outputs": []
    },
    {
      "cell_type": "code",
      "source": [
        "create_react_native_app(\"UnAts\")\n"
      ],
      "metadata": {
        "id": "dM3D6ZP2yjXs"
      },
      "execution_count": null,
      "outputs": []
    },
    {
      "cell_type": "code",
      "source": [
        "!ls\n"
      ],
      "metadata": {
        "colab": {
          "base_uri": "https://localhost:8080/"
        },
        "id": "xcaa6HwX9QXr",
        "outputId": "2307dc08-951c-4590-877b-6b11c3750202"
      },
      "execution_count": null,
      "outputs": [
        {
          "output_type": "stream",
          "name": "stdout",
          "text": [
            "android   babel.config.js  ios\t\t    node_modules       __tests__\n",
            "app.json  Gemfile\t   jest.config.js   package.json       tsconfig.json\n",
            "App.tsx   index.js\t   metro.config.js  package-lock.json\n"
          ]
        }
      ]
    }
  ]
}