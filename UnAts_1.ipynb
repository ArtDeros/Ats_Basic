{
  "nbformat": 4,
  "nbformat_minor": 0,
  "metadata": {
    "colab": {
      "provenance": [],
      "authorship_tag": "ABX9TyN8rhQzbsy+AcKNlD0JSqbI",
      "include_colab_link": true
    },
    "kernelspec": {
      "name": "python3",
      "display_name": "Python 3"
    },
    "language_info": {
      "name": "python"
    }
  },
  "cells": [
    {
      "cell_type": "markdown",
      "metadata": {
        "id": "view-in-github",
        "colab_type": "text"
      },
      "source": [
        "<a href=\"https://colab.research.google.com/github/ArtDeros/Ats_Basic/blob/main/UnAts_1.ipynb\" target=\"_parent\"><img src=\"https://colab.research.google.com/assets/colab-badge.svg\" alt=\"Open In Colab\"/></a>"
      ]
    },
    {
      "cell_type": "code",
      "source": [
        "import pandas as pd\n",
        "import nltk\n",
        "import plotly.graph_objects as go\n",
        "from nltk.tokenize import word_tokenize\n",
        "from nltk.corpus import stopwords\n",
        "from difflib import SequenceMatcher"
      ],
      "metadata": {
        "id": "WXRQynWv8yb8"
      },
      "execution_count": null,
      "outputs": []
    },
    {
      "cell_type": "code",
      "source": [
        "nltk.download('punkt')"
      ],
      "metadata": {
        "colab": {
          "base_uri": "https://localhost:8080/"
        },
        "id": "WkuzgdZI8vp-",
        "outputId": "8e2268c2-54ce-4924-ae82-407d1dfc6be6"
      },
      "execution_count": null,
      "outputs": [
        {
          "output_type": "stream",
          "name": "stderr",
          "text": [
            "[nltk_data] Downloading package punkt to /root/nltk_data...\n",
            "[nltk_data]   Package punkt is already up-to-date!\n"
          ]
        },
        {
          "output_type": "execute_result",
          "data": {
            "text/plain": [
              "True"
            ]
          },
          "metadata": {},
          "execution_count": 6
        }
      ]
    },
    {
      "cell_type": "code",
      "source": [
        "nltk.download('stopwords')"
      ],
      "metadata": {
        "colab": {
          "base_uri": "https://localhost:8080/"
        },
        "id": "X6cSMpde8sF2",
        "outputId": "5c0d62ba-6f87-4d54-d9b9-e68e1945eff3"
      },
      "execution_count": null,
      "outputs": [
        {
          "output_type": "stream",
          "name": "stderr",
          "text": [
            "[nltk_data] Downloading package stopwords to /root/nltk_data...\n",
            "[nltk_data]   Package stopwords is already up-to-date!\n"
          ]
        },
        {
          "output_type": "execute_result",
          "data": {
            "text/plain": [
              "True"
            ]
          },
          "metadata": {},
          "execution_count": 7
        }
      ]
    },
    {
      "cell_type": "code",
      "execution_count": null,
      "metadata": {
        "colab": {
          "base_uri": "https://localhost:8080/",
          "height": 1000
        },
        "id": "fMSGK3lr8gpF",
        "outputId": "e8452780-a4a1-42b9-a4c4-e30a2886afa1"
      },
      "outputs": [
        {
          "output_type": "stream",
          "name": "stdout",
          "text": [
            "Pega el texto de la oferta laboral: Qualifications Bachelor’s degree in Computer Science/Engineering/Statistics or similar An understanding of and/or experience with HRIS, People and Workforce Data and it’s complexities. 7+ years' experience in a mix of enterprise systems design, implementation, and support 5+ years’ experience as a software developer in the reporting and BI space Experience (min) with Snowflake, Kafka, Azure-Databricks, and/or Lakehouse architecture strongly desired Experience with multi-workstream data migrations, technology sunset initiatives and future state data architecture Working experience of scripting, data science, DevOps and analytics (SQL, Python, PowerShell, JavaScript) Comfortable working in complex and large-scale production environments Deep understanding of how to apply data privacy to the full data lifecycle Familiarly with building and understanding data models and data warehouses highly desired Good understanding of modern distributed, micro-services architectures. Comfortable mentoring a team of junior engineers charged with delivering on cross-functional work must haves Acknowledge the presence of choice in every moment and take personal responsibility for your life. Possess an entrepreneurial spirit and continuously innovate to achieve great results. Communicate with honesty and kindness and create the space for others to do the same. Lead with courage, knowing the possibility of greatness is bigger than the fear of failure. Foster connection by putting people first and building trusting relationships. Integrate fun and joy as a way of being and working, aka doesn’t take yourself too seriously.\n",
            "Pega el texto de la hoja de vida: L: Colombia | E: oscar.abellaovalle@gmail.com |P:  +57 3158766149 |LI: linkedin.com/in/oabella/ \tPROFESSIONAL SUMMARY I am a strategic data science/analyst and skilled IT Support Specialist with 7+ years of experience in developing innovative solutions to unexpected challenges. I excel in managing systems for single or multi-site installations and ensure optimal security through effective management of hardware and software assets. My strong instructional and problem-solving skills alleviate concerns related to new technology. WORK HISTORY Freelance                                                                        03/2019 – Present • Provided support, integration, and development of data scrapers for analysis. • Proficient in Python, Django, ML, Data Structures, and Hadoop.   Consejo Superior de la Judicatura - IT Analyst - Administrative Assistant                                                              10/2019 - 10/2022  • Implementation and managed data input and organization into spreadsheets and statistical analysis systems. • Provided administrative support and integrated statistical analysis data for department reporting using MS Office and acceptance criteria. • Assisted in driving the adoption of Power Apps, PowerPoint, Access, Power Automate, and independent thinking in computer science agile environment. • Designed research, developed pivot tables, and implemented simplified tools to support daily output processing and audit data. • Developed capabilities for analyzing and presenting analytical information for various business processes user requirements and user stories telling. • Produced regular reporting and presentation metrics related to data management and statistical analysis for the technical solutions. • Collaborated and coaching with internal stakeholders and the IT and help desk department to provide timely reporting and data as a service.  Bramcol S.A.S. - Electronics Technician                    02/2017 - 02/2019 •\tPerformed maintenance, risk prevention, and correction of processes in industrial electronic systems. •\tGenerated electronic repair estimates and quotes for internal and external clients. Servicios Postales Nacionales 4-72 - Support Technician L3  02/2018 - 05/2018 •\tAccelerated systems maintenance (servers, Fortigate, operating systems and applications) for a 15% optimization. •\tAccelerated systems maintenance for optimization\t    \tSKILLS •\tPower Platform - Power BI  •\tData Engineering / Analytics   •\tTechnical Issues Analytics •\tBusiness Intelligence •\tApache Hadoop / storm •\tCreative and Resourceful •\tWeb Scraping •\tTime Management  •\tCritical Thinking •\tSolution-Focused-Devops •\tPython / Pandas / R / ETL •\tTech-Savvy EDUCATION Universidad Nacional Abierta y a Distancia - UNAD  Colombia  Bachelor of Science  Systems Engineering   SENA  Colombia  Technician  Maintenance of Industrial Electronic Equipment  CERTIFICATIONS Platzi - How and why to learn Data Science and Artificial Intelligence. Platzi - Data Science and Artificial Intelligence. Platzi - Fundamentals of R. Platzi - Principles of Data Visualization for Business Intelligence. Platzi - Business analytics for data science. Platzi - Prompt engineering with chatgpt Platzi – Data Engineer  Google Data Analysis Professional Certificate - Basics: Data, data, data, everywhere - 2022  School of Public Administration -Data Science. Basic - Advanced  El Bosque University Software Development - 2021 Mobile Application Development - 2021\t\n",
            "Porcentaje de coincidencia: 2.7333073018352203\n",
            "Palabras faltantes:\n",
            "- apply\n",
            "- haves\n",
            "- developer\n",
            "- Familiarly\n",
            "- complexities\n",
            "- degree\n",
            "- Kafka\n",
            "- seriously\n",
            "- Possess\n",
            "- honesty\n",
            "- take\n",
            "- micro-services\n",
            "- create\n",
            "- life\n",
            "- fear\n",
            "- Communicate\n",
            "- space\n",
            "- possibility\n",
            "- joy\n",
            "- Snowflake\n",
            "- '\n",
            "- production\n",
            "- choice\n",
            "- building\n",
            "- scripting\n",
            "- achieve\n",
            "- must\n",
            "- Deep\n",
            "- greatness\n",
            "- way\n",
            "- lifecycle\n",
            "- engineers\n",
            "- spirit\n",
            "- JavaScript\n",
            "- SQL\n",
            "- Acknowledge\n",
            "- bigger\n",
            "- enterprise\n",
            "- implementation\n",
            "- sunset\n",
            "- team\n",
            "- Foster\n",
            "- state\n",
            "- HRIS\n",
            "- results\n",
            "- mentoring\n",
            "- privacy\n",
            "- Azure-Databricks\n",
            "- every\n",
            "- Good\n",
            "- courage\n",
            "- full\n",
            "- Workforce\n",
            "- complex\n",
            "- junior\n",
            "- knowing\n",
            "- Lakehouse\n",
            "- cross-functional\n",
            "- min\n",
            "- Science/Engineering/Statistics\n",
            "- environments\n",
            "- Lead\n",
            "- working\n",
            "- highly\n",
            "- distributed\n",
            "- people\n",
            "- connection\n",
            "- Integrate\n",
            "- continuously\n",
            "- ’\n",
            "- initiatives\n",
            "- future\n",
            "- charged\n",
            "- kindness\n",
            "- People\n",
            "- trusting\n",
            "- desired\n",
            "- innovate\n",
            "- relationships\n",
            "- strongly\n",
            "- Computer\n",
            "- moment\n",
            "- DevOps\n",
            "- great\n",
            "- failure\n",
            "- entrepreneurial\n",
            "- putting\n",
            "- multi-workstream\n",
            "- personal\n",
            "- understanding\n",
            "- Experience\n",
            "- architecture\n",
            "- aka\n",
            "- fun\n",
            "- Comfortable\n",
            "- 5+\n",
            "- and/or\n",
            "- presence\n",
            "- warehouses\n",
            "- architectures\n",
            "- Qualifications\n",
            "- Working\n",
            "- others\n",
            "- mix\n",
            "- PowerShell\n",
            "- design\n",
            "- work\n",
            "- modern\n",
            "- migrations\n",
            "- responsibility\n",
            "- first\n",
            "- large-scale\n",
            "- similar\n",
            "- delivering\n",
            "- models\n",
            "Tu hoja de vida no cumple con el porcentaje de coincidencia necesario. Revisa las palabras faltantes.\n"
          ]
        },
        {
          "output_type": "display_data",
          "data": {
            "text/html": [
              "<html>\n",
              "<head><meta charset=\"utf-8\" /></head>\n",
              "<body>\n",
              "    <div>            <script src=\"https://cdnjs.cloudflare.com/ajax/libs/mathjax/2.7.5/MathJax.js?config=TeX-AMS-MML_SVG\"></script><script type=\"text/javascript\">if (window.MathJax && window.MathJax.Hub && window.MathJax.Hub.Config) {window.MathJax.Hub.Config({SVG: {font: \"STIX-Web\"}});}</script>                <script type=\"text/javascript\">window.PlotlyConfig = {MathJaxConfig: 'local'};</script>\n",
              "        <script src=\"https://cdn.plot.ly/plotly-2.18.2.min.js\"></script>                <div id=\"24652fea-c0d4-423c-af2a-f5f5bae3d034\" class=\"plotly-graph-div\" style=\"height:525px; width:100%;\"></div>            <script type=\"text/javascript\">                                    window.PLOTLYENV=window.PLOTLYENV || {};                                    if (document.getElementById(\"24652fea-c0d4-423c-af2a-f5f5bae3d034\")) {                    Plotly.newPlot(                        \"24652fea-c0d4-423c-af2a-f5f5bae3d034\",                        [{\"domain\":{\"x\":[0,1],\"y\":[0,1]},\"gauge\":{\"axis\":{\"range\":[null,100]},\"steps\":[{\"color\":\"lightgray\",\"range\":[0,100]}],\"threshold\":{\"line\":{\"color\":\"red\",\"width\":4},\"thickness\":0.75,\"value\":2.7333073018352203}},\"mode\":\"gauge+number\",\"title\":{\"text\":\"Porcentaje de palabras faltantes\"},\"value\":2.7333073018352203,\"type\":\"indicator\"}],                        {\"template\":{\"data\":{\"histogram2dcontour\":[{\"type\":\"histogram2dcontour\",\"colorbar\":{\"outlinewidth\":0,\"ticks\":\"\"},\"colorscale\":[[0.0,\"#0d0887\"],[0.1111111111111111,\"#46039f\"],[0.2222222222222222,\"#7201a8\"],[0.3333333333333333,\"#9c179e\"],[0.4444444444444444,\"#bd3786\"],[0.5555555555555556,\"#d8576b\"],[0.6666666666666666,\"#ed7953\"],[0.7777777777777778,\"#fb9f3a\"],[0.8888888888888888,\"#fdca26\"],[1.0,\"#f0f921\"]]}],\"choropleth\":[{\"type\":\"choropleth\",\"colorbar\":{\"outlinewidth\":0,\"ticks\":\"\"}}],\"histogram2d\":[{\"type\":\"histogram2d\",\"colorbar\":{\"outlinewidth\":0,\"ticks\":\"\"},\"colorscale\":[[0.0,\"#0d0887\"],[0.1111111111111111,\"#46039f\"],[0.2222222222222222,\"#7201a8\"],[0.3333333333333333,\"#9c179e\"],[0.4444444444444444,\"#bd3786\"],[0.5555555555555556,\"#d8576b\"],[0.6666666666666666,\"#ed7953\"],[0.7777777777777778,\"#fb9f3a\"],[0.8888888888888888,\"#fdca26\"],[1.0,\"#f0f921\"]]}],\"heatmap\":[{\"type\":\"heatmap\",\"colorbar\":{\"outlinewidth\":0,\"ticks\":\"\"},\"colorscale\":[[0.0,\"#0d0887\"],[0.1111111111111111,\"#46039f\"],[0.2222222222222222,\"#7201a8\"],[0.3333333333333333,\"#9c179e\"],[0.4444444444444444,\"#bd3786\"],[0.5555555555555556,\"#d8576b\"],[0.6666666666666666,\"#ed7953\"],[0.7777777777777778,\"#fb9f3a\"],[0.8888888888888888,\"#fdca26\"],[1.0,\"#f0f921\"]]}],\"heatmapgl\":[{\"type\":\"heatmapgl\",\"colorbar\":{\"outlinewidth\":0,\"ticks\":\"\"},\"colorscale\":[[0.0,\"#0d0887\"],[0.1111111111111111,\"#46039f\"],[0.2222222222222222,\"#7201a8\"],[0.3333333333333333,\"#9c179e\"],[0.4444444444444444,\"#bd3786\"],[0.5555555555555556,\"#d8576b\"],[0.6666666666666666,\"#ed7953\"],[0.7777777777777778,\"#fb9f3a\"],[0.8888888888888888,\"#fdca26\"],[1.0,\"#f0f921\"]]}],\"contourcarpet\":[{\"type\":\"contourcarpet\",\"colorbar\":{\"outlinewidth\":0,\"ticks\":\"\"}}],\"contour\":[{\"type\":\"contour\",\"colorbar\":{\"outlinewidth\":0,\"ticks\":\"\"},\"colorscale\":[[0.0,\"#0d0887\"],[0.1111111111111111,\"#46039f\"],[0.2222222222222222,\"#7201a8\"],[0.3333333333333333,\"#9c179e\"],[0.4444444444444444,\"#bd3786\"],[0.5555555555555556,\"#d8576b\"],[0.6666666666666666,\"#ed7953\"],[0.7777777777777778,\"#fb9f3a\"],[0.8888888888888888,\"#fdca26\"],[1.0,\"#f0f921\"]]}],\"surface\":[{\"type\":\"surface\",\"colorbar\":{\"outlinewidth\":0,\"ticks\":\"\"},\"colorscale\":[[0.0,\"#0d0887\"],[0.1111111111111111,\"#46039f\"],[0.2222222222222222,\"#7201a8\"],[0.3333333333333333,\"#9c179e\"],[0.4444444444444444,\"#bd3786\"],[0.5555555555555556,\"#d8576b\"],[0.6666666666666666,\"#ed7953\"],[0.7777777777777778,\"#fb9f3a\"],[0.8888888888888888,\"#fdca26\"],[1.0,\"#f0f921\"]]}],\"mesh3d\":[{\"type\":\"mesh3d\",\"colorbar\":{\"outlinewidth\":0,\"ticks\":\"\"}}],\"scatter\":[{\"fillpattern\":{\"fillmode\":\"overlay\",\"size\":10,\"solidity\":0.2},\"type\":\"scatter\"}],\"parcoords\":[{\"type\":\"parcoords\",\"line\":{\"colorbar\":{\"outlinewidth\":0,\"ticks\":\"\"}}}],\"scatterpolargl\":[{\"type\":\"scatterpolargl\",\"marker\":{\"colorbar\":{\"outlinewidth\":0,\"ticks\":\"\"}}}],\"bar\":[{\"error_x\":{\"color\":\"#2a3f5f\"},\"error_y\":{\"color\":\"#2a3f5f\"},\"marker\":{\"line\":{\"color\":\"#E5ECF6\",\"width\":0.5},\"pattern\":{\"fillmode\":\"overlay\",\"size\":10,\"solidity\":0.2}},\"type\":\"bar\"}],\"scattergeo\":[{\"type\":\"scattergeo\",\"marker\":{\"colorbar\":{\"outlinewidth\":0,\"ticks\":\"\"}}}],\"scatterpolar\":[{\"type\":\"scatterpolar\",\"marker\":{\"colorbar\":{\"outlinewidth\":0,\"ticks\":\"\"}}}],\"histogram\":[{\"marker\":{\"pattern\":{\"fillmode\":\"overlay\",\"size\":10,\"solidity\":0.2}},\"type\":\"histogram\"}],\"scattergl\":[{\"type\":\"scattergl\",\"marker\":{\"colorbar\":{\"outlinewidth\":0,\"ticks\":\"\"}}}],\"scatter3d\":[{\"type\":\"scatter3d\",\"line\":{\"colorbar\":{\"outlinewidth\":0,\"ticks\":\"\"}},\"marker\":{\"colorbar\":{\"outlinewidth\":0,\"ticks\":\"\"}}}],\"scattermapbox\":[{\"type\":\"scattermapbox\",\"marker\":{\"colorbar\":{\"outlinewidth\":0,\"ticks\":\"\"}}}],\"scatterternary\":[{\"type\":\"scatterternary\",\"marker\":{\"colorbar\":{\"outlinewidth\":0,\"ticks\":\"\"}}}],\"scattercarpet\":[{\"type\":\"scattercarpet\",\"marker\":{\"colorbar\":{\"outlinewidth\":0,\"ticks\":\"\"}}}],\"carpet\":[{\"aaxis\":{\"endlinecolor\":\"#2a3f5f\",\"gridcolor\":\"white\",\"linecolor\":\"white\",\"minorgridcolor\":\"white\",\"startlinecolor\":\"#2a3f5f\"},\"baxis\":{\"endlinecolor\":\"#2a3f5f\",\"gridcolor\":\"white\",\"linecolor\":\"white\",\"minorgridcolor\":\"white\",\"startlinecolor\":\"#2a3f5f\"},\"type\":\"carpet\"}],\"table\":[{\"cells\":{\"fill\":{\"color\":\"#EBF0F8\"},\"line\":{\"color\":\"white\"}},\"header\":{\"fill\":{\"color\":\"#C8D4E3\"},\"line\":{\"color\":\"white\"}},\"type\":\"table\"}],\"barpolar\":[{\"marker\":{\"line\":{\"color\":\"#E5ECF6\",\"width\":0.5},\"pattern\":{\"fillmode\":\"overlay\",\"size\":10,\"solidity\":0.2}},\"type\":\"barpolar\"}],\"pie\":[{\"automargin\":true,\"type\":\"pie\"}]},\"layout\":{\"autotypenumbers\":\"strict\",\"colorway\":[\"#636efa\",\"#EF553B\",\"#00cc96\",\"#ab63fa\",\"#FFA15A\",\"#19d3f3\",\"#FF6692\",\"#B6E880\",\"#FF97FF\",\"#FECB52\"],\"font\":{\"color\":\"#2a3f5f\"},\"hovermode\":\"closest\",\"hoverlabel\":{\"align\":\"left\"},\"paper_bgcolor\":\"white\",\"plot_bgcolor\":\"#E5ECF6\",\"polar\":{\"bgcolor\":\"#E5ECF6\",\"angularaxis\":{\"gridcolor\":\"white\",\"linecolor\":\"white\",\"ticks\":\"\"},\"radialaxis\":{\"gridcolor\":\"white\",\"linecolor\":\"white\",\"ticks\":\"\"}},\"ternary\":{\"bgcolor\":\"#E5ECF6\",\"aaxis\":{\"gridcolor\":\"white\",\"linecolor\":\"white\",\"ticks\":\"\"},\"baxis\":{\"gridcolor\":\"white\",\"linecolor\":\"white\",\"ticks\":\"\"},\"caxis\":{\"gridcolor\":\"white\",\"linecolor\":\"white\",\"ticks\":\"\"}},\"coloraxis\":{\"colorbar\":{\"outlinewidth\":0,\"ticks\":\"\"}},\"colorscale\":{\"sequential\":[[0.0,\"#0d0887\"],[0.1111111111111111,\"#46039f\"],[0.2222222222222222,\"#7201a8\"],[0.3333333333333333,\"#9c179e\"],[0.4444444444444444,\"#bd3786\"],[0.5555555555555556,\"#d8576b\"],[0.6666666666666666,\"#ed7953\"],[0.7777777777777778,\"#fb9f3a\"],[0.8888888888888888,\"#fdca26\"],[1.0,\"#f0f921\"]],\"sequentialminus\":[[0.0,\"#0d0887\"],[0.1111111111111111,\"#46039f\"],[0.2222222222222222,\"#7201a8\"],[0.3333333333333333,\"#9c179e\"],[0.4444444444444444,\"#bd3786\"],[0.5555555555555556,\"#d8576b\"],[0.6666666666666666,\"#ed7953\"],[0.7777777777777778,\"#fb9f3a\"],[0.8888888888888888,\"#fdca26\"],[1.0,\"#f0f921\"]],\"diverging\":[[0,\"#8e0152\"],[0.1,\"#c51b7d\"],[0.2,\"#de77ae\"],[0.3,\"#f1b6da\"],[0.4,\"#fde0ef\"],[0.5,\"#f7f7f7\"],[0.6,\"#e6f5d0\"],[0.7,\"#b8e186\"],[0.8,\"#7fbc41\"],[0.9,\"#4d9221\"],[1,\"#276419\"]]},\"xaxis\":{\"gridcolor\":\"white\",\"linecolor\":\"white\",\"ticks\":\"\",\"title\":{\"standoff\":15},\"zerolinecolor\":\"white\",\"automargin\":true,\"zerolinewidth\":2},\"yaxis\":{\"gridcolor\":\"white\",\"linecolor\":\"white\",\"ticks\":\"\",\"title\":{\"standoff\":15},\"zerolinecolor\":\"white\",\"automargin\":true,\"zerolinewidth\":2},\"scene\":{\"xaxis\":{\"backgroundcolor\":\"#E5ECF6\",\"gridcolor\":\"white\",\"linecolor\":\"white\",\"showbackground\":true,\"ticks\":\"\",\"zerolinecolor\":\"white\",\"gridwidth\":2},\"yaxis\":{\"backgroundcolor\":\"#E5ECF6\",\"gridcolor\":\"white\",\"linecolor\":\"white\",\"showbackground\":true,\"ticks\":\"\",\"zerolinecolor\":\"white\",\"gridwidth\":2},\"zaxis\":{\"backgroundcolor\":\"#E5ECF6\",\"gridcolor\":\"white\",\"linecolor\":\"white\",\"showbackground\":true,\"ticks\":\"\",\"zerolinecolor\":\"white\",\"gridwidth\":2}},\"shapedefaults\":{\"line\":{\"color\":\"#2a3f5f\"}},\"annotationdefaults\":{\"arrowcolor\":\"#2a3f5f\",\"arrowhead\":0,\"arrowwidth\":1},\"geo\":{\"bgcolor\":\"white\",\"landcolor\":\"#E5ECF6\",\"subunitcolor\":\"white\",\"showland\":true,\"showlakes\":true,\"lakecolor\":\"white\"},\"title\":{\"x\":0.05},\"mapbox\":{\"style\":\"light\"}}}},                        {\"responsive\": true}                    ).then(function(){\n",
              "                            \n",
              "var gd = document.getElementById('24652fea-c0d4-423c-af2a-f5f5bae3d034');\n",
              "var x = new MutationObserver(function (mutations, observer) {{\n",
              "        var display = window.getComputedStyle(gd).display;\n",
              "        if (!display || display === 'none') {{\n",
              "            console.log([gd, 'removed!']);\n",
              "            Plotly.purge(gd);\n",
              "            observer.disconnect();\n",
              "        }}\n",
              "}});\n",
              "\n",
              "// Listen for the removal of the full notebook cells\n",
              "var notebookContainer = gd.closest('#notebook-container');\n",
              "if (notebookContainer) {{\n",
              "    x.observe(notebookContainer, {childList: true});\n",
              "}}\n",
              "\n",
              "// Listen for the clearing of the current output cell\n",
              "var outputEl = gd.closest('.output');\n",
              "if (outputEl) {{\n",
              "    x.observe(outputEl, {childList: true});\n",
              "}}\n",
              "\n",
              "                        })                };                            </script>        </div>\n",
              "</body>\n",
              "</html>"
            ]
          },
          "metadata": {}
        }
      ],
      "source": [
        "import plotly.graph_objects as go\n",
        "\n",
        "def similarity_percentage(text1, text2):\n",
        "    return SequenceMatcher(None, text1, text2).ratio() * 100\n",
        "\n",
        "def display_progress(percentage):\n",
        "    # Crear el tacómetro\n",
        "    fig = go.Figure(go.Indicator(\n",
        "        mode=\"gauge+number\",\n",
        "        value=percentage,\n",
        "        domain={'x': [0, 1], 'y': [0, 1]},\n",
        "        title={'text': \"Porcentaje de palabras faltantes\"},\n",
        "        gauge={'axis': {'range': [None, 100]},\n",
        "               'steps': [{'range': [0, 100], 'color': \"lightgray\"}],\n",
        "               'threshold': {'line': {'color': \"red\", 'width': 4}, 'thickness': 0.75, 'value': percentage}}))\n",
        "\n",
        "    # Mostrar el tacómetro\n",
        "    fig.show()\n",
        "\n",
        "# Pegar el texto de la oferta laboral y de la hoja de vida\n",
        "job_description = input(\"Pega el texto de la oferta laboral: \")\n",
        "resume_text = input(\"Pega el texto de la hoja de vida: \")\n",
        "\n",
        "# Procesamiento de texto: tokenización y eliminación de stopwords\n",
        "stop_words = set(stopwords.words('english'))\n",
        "\n",
        "job_tokens = [word for word in word_tokenize(job_description) if word.lower() not in stop_words]\n",
        "resume_tokens = [word for word in word_tokenize(resume_text) if word.lower() not in stop_words]\n",
        "\n",
        "# Determinar las palabras faltantes en relación al porcentaje de coincidencia\n",
        "matching_words = set(job_tokens).intersection(resume_tokens)\n",
        "missing_words = set(job_tokens) - matching_words\n",
        "\n",
        "# Calcular el porcentaje de coincidencia\n",
        "percentage = similarity_percentage(job_description, resume_text)\n",
        "\n",
        "# Mostrar los resultados\n",
        "print(\"Porcentaje de coincidencia:\", percentage)\n",
        "\n",
        "# Mostrar las palabras faltantes\n",
        "if len(missing_words) > 0:\n",
        "    print(\"Palabras faltantes:\")\n",
        "    for word in missing_words:\n",
        "        print(\"- \" + word)\n",
        "else:\n",
        "    print(\"No se encontraron palabras faltantes.\")\n",
        "\n",
        "# Verificar si el porcentaje está en el rango deseado\n",
        "if percentage >= 5 and percentage <= 75:\n",
        "    print(\"¡Felicidades! Tu hoja de vida cumple con el porcentaje de coincidencia necesario.\")\n",
        "else:\n",
        "    print(\"Tu hoja de vida no cumple con el porcentaje de coincidencia necesario. Revisa las palabras faltantes.\")\n",
        "\n",
        "# Mostrar el progreso visualmente\n",
        "display_progress(percentage)\n"
      ]
    }
  ]
}